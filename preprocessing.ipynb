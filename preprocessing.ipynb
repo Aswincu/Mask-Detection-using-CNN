{
 "cells": [
  {
   "cell_type": "code",
   "execution_count": 3,
   "id": "fe3402bd",
   "metadata": {},
   "outputs": [],
   "source": [
    "import os,cv2#we wanta to fetch the directory of the image dataset using os module, for image operations we uses cv2 module\n",
    "import numpy as np#for numerical calculation\n",
    "from keras.utils import np_utils#np_utils used to convert array of labeled data (0-1) to one-hot vector"
   ]
  },
  {
   "cell_type": "code",
   "execution_count": 1,
   "id": "8da7a465",
   "metadata": {},
   "outputs": [],
   "source": [
    "data_path=r\"C:\\Users\\hp\\Downloads\\archive (12)\\Training\"#load the dataset"
   ]
  },
  {
   "cell_type": "code",
   "execution_count": 2,
   "id": "7b18e8ac",
   "metadata": {},
   "outputs": [
    {
     "ename": "NameError",
     "evalue": "name 'os' is not defined",
     "output_type": "error",
     "traceback": [
      "\u001b[1;31m---------------------------------------------------------------------------\u001b[0m",
      "\u001b[1;31mNameError\u001b[0m                                 Traceback (most recent call last)",
      "\u001b[1;32m<ipython-input-2-fa3bbe5abc45>\u001b[0m in \u001b[0;36m<module>\u001b[1;34m\u001b[0m\n\u001b[1;32m----> 1\u001b[1;33m \u001b[0mcategories\u001b[0m\u001b[1;33m=\u001b[0m\u001b[0mos\u001b[0m\u001b[1;33m.\u001b[0m\u001b[0mlistdir\u001b[0m\u001b[1;33m(\u001b[0m\u001b[0mdata_path\u001b[0m\u001b[1;33m)\u001b[0m\u001b[1;31m#listdir used to print all the files present in the specified path, such as without_mask and with_mask\u001b[0m\u001b[1;33m\u001b[0m\u001b[1;33m\u001b[0m\u001b[0m\n\u001b[0m",
      "\u001b[1;31mNameError\u001b[0m: name 'os' is not defined"
     ]
    }
   ],
   "source": [
    "categories=os.listdir(data_path)#listdir used to print all the files present in the specified path, such as without_mask and with_mask"
   ]
  },
  {
   "cell_type": "code",
   "execution_count": 4,
   "id": "e8e3e177",
   "metadata": {},
   "outputs": [],
   "source": [
    "labels=[i for i in range(len(categories))]#length of the categories such as 0 and 1"
   ]
  },
  {
   "cell_type": "code",
   "execution_count": 5,
   "id": "a2119146",
   "metadata": {},
   "outputs": [],
   "source": [
    "label_dict=dict(zip(categories,labels))#with mask we allot 1 and without mask we allot 0"
   ]
  },
  {
   "cell_type": "code",
   "execution_count": 6,
   "id": "83a40902",
   "metadata": {},
   "outputs": [
    {
     "name": "stdout",
     "output_type": "stream",
     "text": [
      "['without_mask', 'with_mask']\n",
      "[0, 1]\n",
      "{'without_mask': 0, 'with_mask': 1}\n"
     ]
    }
   ],
   "source": [
    "#print the 3 variable\n",
    "print(categories)\n",
    "print(labels)\n",
    "print(label_dict)"
   ]
  },
  {
   "cell_type": "code",
   "execution_count": 7,
   "id": "1e0e240d",
   "metadata": {},
   "outputs": [],
   "source": [
    "#set image_size as 100\n",
    "image_size=100\n",
    "#here there are 2 empty list namely data and target\n",
    "data=[]\n",
    "target=[]\n",
    "\n",
    "\n",
    "for category in categories:\n",
    "    folder_path=os.path.join(data_path,category)\n",
    "    image_names=os.listdir(folder_path)\n",
    "    for image_name in image_names:\n",
    "        image_path=os.path.join(folder_path,image_name)\n",
    "        img=cv2.imread(image_path)\n",
    "        \n",
    "        try:\n",
    "            grey=cv2.cvtColor(img,cv2.COLOR_BGR2GRAY)\n",
    "            resize=cv2.resize(grey,(image_size,image_size))\n",
    "            data.append(resize)\n",
    "            target.append(label_dict[category])\n",
    "        except Exception as e:\n",
    "            print(\"Exception \",e)"
   ]
  },
  {
   "cell_type": "code",
   "execution_count": 8,
   "id": "2bd82c42",
   "metadata": {},
   "outputs": [],
   "source": [
    "data=np.array(data)/255.0\n",
    "data=np.reshape(data,(data.shape[0],image_size,image_size,1))\n",
    "target=np.array(target)"
   ]
  },
  {
   "cell_type": "code",
   "execution_count": 9,
   "id": "225bb330",
   "metadata": {},
   "outputs": [],
   "source": [
    "new_target=np_utils.to_categorical(target)"
   ]
  },
  {
   "cell_type": "code",
   "execution_count": 10,
   "id": "74dd6c45",
   "metadata": {},
   "outputs": [],
   "source": [
    "np.save('data.npy', data)  "
   ]
  },
  {
   "cell_type": "code",
   "execution_count": 11,
   "id": "a8831d8e",
   "metadata": {},
   "outputs": [],
   "source": [
    "np.save('target.npy', target)  "
   ]
  },
  {
   "cell_type": "code",
   "execution_count": null,
   "id": "bb4d92c7",
   "metadata": {},
   "outputs": [],
   "source": []
  }
 ],
 "metadata": {
  "kernelspec": {
   "display_name": "Python 3",
   "language": "python",
   "name": "python3"
  },
  "language_info": {
   "codemirror_mode": {
    "name": "ipython",
    "version": 3
   },
   "file_extension": ".py",
   "mimetype": "text/x-python",
   "name": "python",
   "nbconvert_exporter": "python",
   "pygments_lexer": "ipython3",
   "version": "3.8.8"
  }
 },
 "nbformat": 4,
 "nbformat_minor": 5
}
